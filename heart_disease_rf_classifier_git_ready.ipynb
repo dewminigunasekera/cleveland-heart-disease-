{
 "cells": [
  {
   "cell_type": "markdown",
   "id": "2e05e628-5b05-47ba-88f9-a9061d7553d2",
   "metadata": {},
   "source": [
    "### Importing necessary libraries"
   ]
  },
  {
   "cell_type": "code",
   "execution_count": 2,
   "id": "71672c4e-45e9-4102-a6d2-150dc646576f",
   "metadata": {},
   "outputs": [],
   "source": [
    "import pandas as pd\n",
    "import numpy as np\n",
    "import matplotlib.pyplot as mlt\n",
    "import seaborn as sn"
   ]
  },
  {
   "cell_type": "code",
   "execution_count": 3,
   "id": "cb57455d-325e-449e-a236-ae9d9f96bada",
   "metadata": {},
   "outputs": [],
   "source": [
    "dataset = pd.read_csv(\"C:/Users/LENOVO/heart.csv\")"
   ]
  },
  {
   "cell_type": "code",
   "execution_count": 4,
   "id": "193d46c0-9967-4011-b0e0-c1598e1dd5af",
   "metadata": {},
   "outputs": [
    {
     "name": "stdout",
     "output_type": "stream",
     "text": [
      "<class 'pandas.core.frame.DataFrame'>\n",
      "RangeIndex: 303 entries, 0 to 302\n",
      "Data columns (total 14 columns):\n",
      " #   Column    Non-Null Count  Dtype  \n",
      "---  ------    --------------  -----  \n",
      " 0   age       303 non-null    int64  \n",
      " 1   sex       303 non-null    int64  \n",
      " 2   cp        303 non-null    int64  \n",
      " 3   trestbps  303 non-null    int64  \n",
      " 4   chol      303 non-null    int64  \n",
      " 5   fbs       303 non-null    int64  \n",
      " 6   restecg   303 non-null    int64  \n",
      " 7   thalach   303 non-null    int64  \n",
      " 8   exang     303 non-null    int64  \n",
      " 9   oldpeak   303 non-null    float64\n",
      " 10  slope     303 non-null    int64  \n",
      " 11  ca        303 non-null    int64  \n",
      " 12  thal      303 non-null    int64  \n",
      " 13  target    303 non-null    int64  \n",
      "dtypes: float64(1), int64(13)\n",
      "memory usage: 33.3 KB\n"
     ]
    }
   ],
   "source": [
    "dataset.info()"
   ]
  },
  {
   "cell_type": "code",
   "execution_count": 8,
   "id": "41a91ae8-b4fb-4bca-8ea2-cb364c986ad3",
   "metadata": {},
   "outputs": [
    {
     "data": {
      "text/html": [
       "<div>\n",
       "<style scoped>\n",
       "    .dataframe tbody tr th:only-of-type {\n",
       "        vertical-align: middle;\n",
       "    }\n",
       "\n",
       "    .dataframe tbody tr th {\n",
       "        vertical-align: top;\n",
       "    }\n",
       "\n",
       "    .dataframe thead th {\n",
       "        text-align: right;\n",
       "    }\n",
       "</style>\n",
       "<table border=\"1\" class=\"dataframe\">\n",
       "  <thead>\n",
       "    <tr style=\"text-align: right;\">\n",
       "      <th></th>\n",
       "      <th>age</th>\n",
       "      <th>sex</th>\n",
       "      <th>cp</th>\n",
       "      <th>trestbps</th>\n",
       "      <th>chol</th>\n",
       "      <th>fbs</th>\n",
       "      <th>restecg</th>\n",
       "      <th>thalach</th>\n",
       "      <th>exang</th>\n",
       "      <th>oldpeak</th>\n",
       "      <th>slope</th>\n",
       "      <th>ca</th>\n",
       "      <th>thal</th>\n",
       "      <th>target</th>\n",
       "    </tr>\n",
       "  </thead>\n",
       "  <tbody>\n",
       "    <tr>\n",
       "      <th>0</th>\n",
       "      <td>63</td>\n",
       "      <td>1</td>\n",
       "      <td>3</td>\n",
       "      <td>145</td>\n",
       "      <td>233</td>\n",
       "      <td>1</td>\n",
       "      <td>0</td>\n",
       "      <td>150</td>\n",
       "      <td>0</td>\n",
       "      <td>2.3</td>\n",
       "      <td>0</td>\n",
       "      <td>0</td>\n",
       "      <td>1</td>\n",
       "      <td>1</td>\n",
       "    </tr>\n",
       "    <tr>\n",
       "      <th>1</th>\n",
       "      <td>37</td>\n",
       "      <td>1</td>\n",
       "      <td>2</td>\n",
       "      <td>130</td>\n",
       "      <td>250</td>\n",
       "      <td>0</td>\n",
       "      <td>1</td>\n",
       "      <td>187</td>\n",
       "      <td>0</td>\n",
       "      <td>3.5</td>\n",
       "      <td>0</td>\n",
       "      <td>0</td>\n",
       "      <td>2</td>\n",
       "      <td>1</td>\n",
       "    </tr>\n",
       "    <tr>\n",
       "      <th>2</th>\n",
       "      <td>41</td>\n",
       "      <td>0</td>\n",
       "      <td>1</td>\n",
       "      <td>130</td>\n",
       "      <td>204</td>\n",
       "      <td>0</td>\n",
       "      <td>0</td>\n",
       "      <td>172</td>\n",
       "      <td>0</td>\n",
       "      <td>1.4</td>\n",
       "      <td>2</td>\n",
       "      <td>0</td>\n",
       "      <td>2</td>\n",
       "      <td>1</td>\n",
       "    </tr>\n",
       "    <tr>\n",
       "      <th>3</th>\n",
       "      <td>56</td>\n",
       "      <td>1</td>\n",
       "      <td>1</td>\n",
       "      <td>120</td>\n",
       "      <td>236</td>\n",
       "      <td>0</td>\n",
       "      <td>1</td>\n",
       "      <td>178</td>\n",
       "      <td>0</td>\n",
       "      <td>0.8</td>\n",
       "      <td>2</td>\n",
       "      <td>0</td>\n",
       "      <td>2</td>\n",
       "      <td>1</td>\n",
       "    </tr>\n",
       "    <tr>\n",
       "      <th>4</th>\n",
       "      <td>57</td>\n",
       "      <td>0</td>\n",
       "      <td>0</td>\n",
       "      <td>120</td>\n",
       "      <td>354</td>\n",
       "      <td>0</td>\n",
       "      <td>1</td>\n",
       "      <td>163</td>\n",
       "      <td>1</td>\n",
       "      <td>0.6</td>\n",
       "      <td>2</td>\n",
       "      <td>0</td>\n",
       "      <td>2</td>\n",
       "      <td>1</td>\n",
       "    </tr>\n",
       "  </tbody>\n",
       "</table>\n",
       "</div>"
      ],
      "text/plain": [
       "   age  sex  cp  trestbps  chol  fbs  restecg  thalach  exang  oldpeak  slope  \\\n",
       "0   63    1   3       145   233    1        0      150      0      2.3      0   \n",
       "1   37    1   2       130   250    0        1      187      0      3.5      0   \n",
       "2   41    0   1       130   204    0        0      172      0      1.4      2   \n",
       "3   56    1   1       120   236    0        1      178      0      0.8      2   \n",
       "4   57    0   0       120   354    0        1      163      1      0.6      2   \n",
       "\n",
       "   ca  thal  target  \n",
       "0   0     1       1  \n",
       "1   0     2       1  \n",
       "2   0     2       1  \n",
       "3   0     2       1  \n",
       "4   0     2       1  "
      ]
     },
     "execution_count": 8,
     "metadata": {},
     "output_type": "execute_result"
    }
   ],
   "source": [
    "dataset.head()"
   ]
  },
  {
   "cell_type": "markdown",
   "id": "5a826dce-6cde-453d-b032-63f6da55873c",
   "metadata": {},
   "source": [
    "### Looking for correlations between input varibles and between each input and target"
   ]
  },
  {
   "cell_type": "code",
   "execution_count": 11,
   "id": "4aabc6c0-291c-48ec-a85e-c4f730dbce4c",
   "metadata": {},
   "outputs": [
    {
     "name": "stdout",
     "output_type": "stream",
     "text": [
      "               age       sex        cp  trestbps      chol       fbs  \\\n",
      "age       1.000000 -0.098447 -0.068653  0.279351  0.213678  0.121308   \n",
      "sex      -0.098447  1.000000 -0.049353 -0.056769 -0.197912  0.045032   \n",
      "cp       -0.068653 -0.049353  1.000000  0.047608 -0.076904  0.094444   \n",
      "trestbps  0.279351 -0.056769  0.047608  1.000000  0.123174  0.177531   \n",
      "chol      0.213678 -0.197912 -0.076904  0.123174  1.000000  0.013294   \n",
      "fbs       0.121308  0.045032  0.094444  0.177531  0.013294  1.000000   \n",
      "restecg  -0.116211 -0.058196  0.044421 -0.114103 -0.151040 -0.084189   \n",
      "thalach  -0.398522 -0.044020  0.295762 -0.046698 -0.009940 -0.008567   \n",
      "exang     0.096801  0.141664 -0.394280  0.067616  0.067023  0.025665   \n",
      "oldpeak   0.210013  0.096093 -0.149230  0.193216  0.053952  0.005747   \n",
      "slope    -0.168814 -0.030711  0.119717 -0.121475 -0.004038 -0.059894   \n",
      "ca        0.276326  0.118261 -0.181053  0.101389  0.070511  0.137979   \n",
      "thal      0.068001  0.210041 -0.161736  0.062210  0.098803 -0.032019   \n",
      "target   -0.225439 -0.280937  0.433798 -0.144931 -0.085239 -0.028046   \n",
      "\n",
      "           restecg   thalach     exang   oldpeak     slope        ca  \\\n",
      "age      -0.116211 -0.398522  0.096801  0.210013 -0.168814  0.276326   \n",
      "sex      -0.058196 -0.044020  0.141664  0.096093 -0.030711  0.118261   \n",
      "cp        0.044421  0.295762 -0.394280 -0.149230  0.119717 -0.181053   \n",
      "trestbps -0.114103 -0.046698  0.067616  0.193216 -0.121475  0.101389   \n",
      "chol     -0.151040 -0.009940  0.067023  0.053952 -0.004038  0.070511   \n",
      "fbs      -0.084189 -0.008567  0.025665  0.005747 -0.059894  0.137979   \n",
      "restecg   1.000000  0.044123 -0.070733 -0.058770  0.093045 -0.072042   \n",
      "thalach   0.044123  1.000000 -0.378812 -0.344187  0.386784 -0.213177   \n",
      "exang    -0.070733 -0.378812  1.000000  0.288223 -0.257748  0.115739   \n",
      "oldpeak  -0.058770 -0.344187  0.288223  1.000000 -0.577537  0.222682   \n",
      "slope     0.093045  0.386784 -0.257748 -0.577537  1.000000 -0.080155   \n",
      "ca       -0.072042 -0.213177  0.115739  0.222682 -0.080155  1.000000   \n",
      "thal     -0.011981 -0.096439  0.206754  0.210244 -0.104764  0.151832   \n",
      "target    0.137230  0.421741 -0.436757 -0.430696  0.345877 -0.391724   \n",
      "\n",
      "              thal    target  \n",
      "age       0.068001 -0.225439  \n",
      "sex       0.210041 -0.280937  \n",
      "cp       -0.161736  0.433798  \n",
      "trestbps  0.062210 -0.144931  \n",
      "chol      0.098803 -0.085239  \n",
      "fbs      -0.032019 -0.028046  \n",
      "restecg  -0.011981  0.137230  \n",
      "thalach  -0.096439  0.421741  \n",
      "exang     0.206754 -0.436757  \n",
      "oldpeak   0.210244 -0.430696  \n",
      "slope    -0.104764  0.345877  \n",
      "ca        0.151832 -0.391724  \n",
      "thal      1.000000 -0.344029  \n",
      "target   -0.344029  1.000000  \n"
     ]
    }
   ],
   "source": [
    "correlation_matrix = dataset.corr()\n",
    "print (correlation_matrix)"
   ]
  },
  {
   "cell_type": "markdown",
   "id": "4c99bf83-32ab-4fde-81ef-6ce1deb5e559",
   "metadata": {},
   "source": [
    "### Very low correlated variabes are excluded"
   ]
  },
  {
   "cell_type": "code",
   "execution_count": 14,
   "id": "d9ffa982-8bf3-4837-a26a-1387ecf0aabf",
   "metadata": {},
   "outputs": [
    {
     "name": "stdout",
     "output_type": "stream",
     "text": [
      "Selected features based on |correlation| > 0.22:\n",
      "['age', 'sex', 'cp', 'thalach', 'exang', 'oldpeak', 'slope', 'ca', 'thal']\n"
     ]
    }
   ],
   "source": [
    "# Compute correlation with target\n",
    "correlation_matrix = dataset.corr(numeric_only=True)\n",
    "target_corr = correlation_matrix['target'].drop('target')\n",
    "\n",
    "# Select features with |correlation| > 0.22\n",
    "selected_features = target_corr[abs(target_corr) > 0.22].index.tolist()\n",
    "\n",
    "print(\"Selected features based on |correlation| > 0.22:\")\n",
    "print(selected_features)\n",
    "\n",
    "# Create new input dataset excluding target and weakly correlated variables\n",
    "X = dataset[selected_features]\n",
    "y = dataset['target']\n"
   ]
  },
  {
   "cell_type": "markdown",
   "id": "92bd93b0-b46a-4388-bf49-39c273db7293",
   "metadata": {},
   "source": [
    "### Modeling using Random Forest"
   ]
  },
  {
   "cell_type": "code",
   "execution_count": 17,
   "id": "80a066c0-caf8-485f-9a21-077075f59b4c",
   "metadata": {},
   "outputs": [
    {
     "name": "stdout",
     "output_type": "stream",
     "text": [
      "Selected features: ['age', 'sex', 'cp', 'thalach', 'exang', 'oldpeak', 'slope', 'ca', 'thal']\n",
      "Confusion Matrix:\n",
      " [[20  8]\n",
      " [ 1 32]]\n",
      "\n",
      "Classification Report:\n",
      "               precision    recall  f1-score   support\n",
      "\n",
      "           0       0.95      0.71      0.82        28\n",
      "           1       0.80      0.97      0.88        33\n",
      "\n",
      "    accuracy                           0.85        61\n",
      "   macro avg       0.88      0.84      0.85        61\n",
      "weighted avg       0.87      0.85      0.85        61\n",
      "\n"
     ]
    },
    {
     "data": {
      "image/png": "[encoded data removed]",
      "text/plain": [
       "<Figure size 640x480 with 1 Axes>"
      ]
     },
     "metadata": {},
     "output_type": "display_data"
    }
   ],
   "source": [
    "from sklearn.ensemble import RandomForestClassifier\n",
    "from sklearn.model_selection import train_test_split\n",
    "from sklearn.metrics import classification_report, confusion_matrix\n",
    "\n",
    "# Step 1: Compute correlation matrix\n",
    "correlation_matrix = dataset.corr(numeric_only=True)\n",
    "target_corr = correlation_matrix['target'].drop('target')\n",
    "\n",
    "# Step 2: Select only features with |correlation| > 0.22\n",
    "selected_features = target_corr[abs(target_corr) > 0.22].index.tolist()\n",
    "\n",
    "print(\"Selected features:\", selected_features)\n",
    "\n",
    "# Step 3: Prepare data\n",
    "X = dataset[selected_features]\n",
    "y = dataset['target']\n",
    "\n",
    "# Step 4: Train-test split\n",
    "X_train, X_test, y_train, y_test = train_test_split(X, y, stratify=y, test_size=0.2, random_state=42)\n",
    "\n",
    "# Step 5: Train Random Forest\n",
    "rf_model = RandomForestClassifier(n_estimators=100, random_state=42)\n",
    "rf_model.fit(X_train, y_train)\n",
    "\n",
    "# Step 6: Predict and evaluate\n",
    "y_pred = rf_model.predict(X_test)\n",
    "\n",
    "print(\"Confusion Matrix:\\n\", confusion_matrix(y_test, y_pred))\n",
    "print(\"\\nClassification Report:\\n\", classification_report(y_test, y_pred))\n",
    "\n",
    "# Step 7: Feature importances\n",
    "import matplotlib.pyplot as plt\n",
    "importances = pd.Series(rf_model.feature_importances_, index=X.columns)\n",
    "importances.sort_values().plot(kind='barh', title='Feature Importances')\n",
    "plt.tight_layout()\n",
    "plt.show()\n"
   ]
  },
  {
   "cell_type": "markdown",
   "id": "0c26f9de-ef99-4579-b163-a0445dc1f352",
   "metadata": {},
   "source": [
    "### Thresholding the target probability"
   ]
  },
  {
   "cell_type": "code",
   "execution_count": 53,
   "id": "2902f255-dddf-45a8-8bba-9764cc8a738e",
   "metadata": {},
   "outputs": [
    {
     "name": "stdout",
     "output_type": "stream",
     "text": [
      "Selected features: ['age', 'sex', 'cp', 'thalach', 'exang', 'oldpeak', 'slope', 'ca', 'thal']\n",
      "Confusion Matrix:\n",
      " [[21  7]\n",
      " [ 1 32]]\n",
      "\n",
      "Classification Report:\n",
      "               precision    recall  f1-score   support\n",
      "\n",
      "           0       0.95      0.75      0.84        28\n",
      "           1       0.82      0.97      0.89        33\n",
      "\n",
      "    accuracy                           0.87        61\n",
      "   macro avg       0.89      0.86      0.86        61\n",
      "weighted avg       0.88      0.87      0.87        61\n",
      "\n"
     ]
    },
    {
     "data": {
      "image/png": "[encoded data removed]",
      "text/plain": [
       "<Figure size 640x480 with 1 Axes>"
      ]
     },
     "metadata": {},
     "output_type": "display_data"
    }
   ],
   "source": [
    "\n",
    "# Step 1: Compute correlation matrix\n",
    "correlation_matrix = dataset.corr(numeric_only=True)\n",
    "target_corr = correlation_matrix['target'].drop('target')\n",
    "\n",
    "# Step 2: Select only features with |correlation| > 0.22\n",
    "selected_features = target_corr[abs(target_corr) > 0.22].index.tolist()\n",
    "print(\"Selected features:\", selected_features)\n",
    "\n",
    "# Step 3: Prepare data\n",
    "X = dataset[selected_features]\n",
    "y = dataset['target']\n",
    "\n",
    "# Step 4: Train-test split\n",
    "X_train, X_test, y_train, y_test = train_test_split(X, y, stratify=y, test_size=0.2, random_state=42)\n",
    "\n",
    "# Step 5: Train Random Forest\n",
    "rf_model = RandomForestClassifier(n_estimators=100, random_state=42)\n",
    "rf_model.fit(X_train, y_train)\n",
    "\n",
    "# Step 6: Predict probabilities and adjust threshold\n",
    "y_proba = rf_model.predict_proba(X_test)[:, 1]\n",
    "threshold = 0.53\n",
    "y_pred = (y_proba > threshold).astype(int)\n",
    "\n",
    "# Step 7: Evaluate\n",
    "print(\"Confusion Matrix:\\n\", confusion_matrix(y_test, y_pred))\n",
    "print(\"\\nClassification Report:\\n\", classification_report(y_test, y_pred))\n",
    "\n",
    "# Step 8: Feature importances\n",
    "plt.tight_layout()\n",
    "plt.show()\n"
   ]
  },
  {
   "cell_type": "code",
   "execution_count": null,
   "id": "d2c27bde-0f1e-43b4-8996-6faac1b824be",
   "metadata": {},
   "outputs": [],
   "source": []
  },
  {
   "cell_type": "code",
   "execution_count": null,
   "id": "90859a28-6868-4112-a850-f7da0a786ea1",
   "metadata": {},
   "outputs": [],
   "source": []
  },
  {
   "cell_type": "code",
   "execution_count": null,
   "id": "d6dc3c27-7e9e-4912-afb3-f64405373904",
   "metadata": {},
   "outputs": [],
   "source": []
  }
 ],
 "metadata": {
  "kernelspec": {
   "display_name": "Python [conda env:base] *",
   "language": "python",
   "name": "conda-base-py"
  },
  "language_info": {
   "codemirror_mode": {
    "name": "ipython",
    "version": 3
   },
   "file_extension": ".py",
   "mimetype": "text/x-python",
   "name": "python",
   "nbconvert_exporter": "python",
   "pygments_lexer": "ipython3",
   "version": "3.12.7"
  }
 },
 "nbformat": 4,
 "nbformat_minor": 5
}
